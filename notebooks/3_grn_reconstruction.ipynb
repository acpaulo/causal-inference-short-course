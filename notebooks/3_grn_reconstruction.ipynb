{
 "cells": [
  {
   "cell_type": "markdown",
   "id": "d989c37b-f765-43af-bba1-586e4ff32f27",
   "metadata": {},
   "source": [
    "# Causal gene regulatory network reconstruction\n",
    "\n",
    "Cells continuously monitor their internal and external environment and calculate the amount at which each type of protein is needed. This information-processing function is carried out by [gene regulatory networks (GRNs)](https://en.wikipedia.org/wiki/Gene_regulatory_network), which control the rate of production of each protein. Two important classes of regulatory molecules in GRNs are [transcription factors](https://en.wikipedia.org/wiki/Transcription_factor) and [microRNAs](https://en.wikipedia.org/wiki/MicroRNA).\n",
    "\n",
    "In this tutorial we will use causal inference to reconstruct GRNs from [mRNA](https://en.wikipedia.org/wiki/Messenger_RNA) and [microRNA](https://en.wikipedia.org/wiki/MicroRNA) expression data from the [GEUVADIS study](https://www.nature.com/articles/nature12531). In particular, we will use genetic variants as causal instruments and the [BioFindr software](https://github.com/tmichoel/BioFindr.jl) for model selection, as introduced in the [blessing of dimensionality notebook](2_blessing_of_dimensionality.ipynb)."
   ]
  },
  {
   "cell_type": "markdown",
   "id": "14ac62d1-9825-48cb-8e4f-0ad6a00c80ba",
   "metadata": {},
   "source": [
    "## Setup the environment"
   ]
  },
  {
   "cell_type": "code",
   "execution_count": 1,
   "id": "2c828fed-93b1-4f88-97e8-f23d57c3cb7e",
   "metadata": {},
   "outputs": [],
   "source": [
    "using DrWatson\n",
    "quickactivate(@__DIR__)"
   ]
  },
  {
   "cell_type": "code",
   "execution_count": 2,
   "id": "8992b85a-5c09-46f1-b3a3-a2d73a5d09cc",
   "metadata": {},
   "outputs": [],
   "source": [
    "using DataFrames\n",
    "using Arrow\n",
    "using Gadfly\n",
    "using Compose\n",
    "using BioFindr"
   ]
  },
  {
   "cell_type": "markdown",
   "id": "64ca7c67-add0-46f9-932c-8614bf8b2bf3",
   "metadata": {},
   "source": [
    "## Load data\n",
    "\n",
    "This tutorial uses [preprocessed data files](https://github.com/lingfeiwang/findr-data-geuvadis) from the [GEUVADIS study](https://doi.org/10.1038/nature12531):"
   ]
  },
  {
   "cell_type": "code",
   "execution_count": null,
   "id": "a54deeda-29cd-4845-927b-067f256d61cc",
   "metadata": {},
   "outputs": [],
   "source": []
  }
 ],
 "metadata": {
  "kernelspec": {
   "display_name": "Julia 1.10.0",
   "language": "julia",
   "name": "julia-1.10"
  },
  "language_info": {
   "file_extension": ".jl",
   "mimetype": "application/julia",
   "name": "julia",
   "version": "1.10.0"
  }
 },
 "nbformat": 4,
 "nbformat_minor": 5
}
