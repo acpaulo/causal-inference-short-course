{
 "cells": [
  {
   "cell_type": "markdown",
   "id": "d989c37b-f765-43af-bba1-586e4ff32f27",
   "metadata": {},
   "source": [
    "# Causal gene regulatory network reconstruction\n",
    "\n",
    "Cells continuously monitor their internal and external environment and calculate the amount at which each type of protein is needed. This information-processing function is carried out by [gene regulatory networks (GRNs)](https://en.wikipedia.org/wiki/Gene_regulatory_network), which control the rate of production of each protein. Two important classes of regulatory molecules in GRNs are [transcription factors](https://en.wikipedia.org/wiki/Transcription_factor) and [microRNAs](https://en.wikipedia.org/wiki/MicroRNA).\n",
    "\n",
    "In this tutorial we will use causal inference to reconstruct GRNs from [mRNA](https://en.wikipedia.org/wiki/Messenger_RNA) and [microRNA](https://en.wikipedia.org/wiki/MicroRNA) expression data from the [GEUVADIS study](https://www.nature.com/articles/nature12531). In particular, we will use genetic variants as causal instruments and the [BioFindr software](https://github.com/tmichoel/BioFindr.jl) for model selection, as introduced in the [blessing of dimensionality notebook](2_blessing_of_dimensionality.ipynb)."
   ]
  },
  {
   "cell_type": "markdown",
   "id": "14ac62d1-9825-48cb-8e4f-0ad6a00c80ba",
   "metadata": {},
   "source": [
    "## Setup the environment"
   ]
  },
  {
   "cell_type": "code",
   "execution_count": 1,
   "id": "2c828fed-93b1-4f88-97e8-f23d57c3cb7e",
   "metadata": {},
   "outputs": [],
   "source": [
    "using DrWatson\n",
    "quickactivate(@__DIR__)"
   ]
  },
  {
   "cell_type": "code",
   "execution_count": 23,
   "id": "8992b85a-5c09-46f1-b3a3-a2d73a5d09cc",
   "metadata": {},
   "outputs": [],
   "source": [
    "using DataFrames\n",
    "using Arrow\n",
    "using CSV\n",
    "using Gadfly\n",
    "using Compose\n",
    "using BioFindr\n",
    "using Printf\n",
    "using Graphs"
   ]
  },
  {
   "cell_type": "markdown",
   "id": "64ca7c67-add0-46f9-932c-8614bf8b2bf3",
   "metadata": {},
   "source": [
    "## Load data\n",
    "\n",
    "This tutorial uses [preprocessed data files](https://github.com/lingfeiwang/findr-data-geuvadis) from the [GEUVADIS study](https://doi.org/10.1038/nature12531). We have mRNA (`t` for transcripts) and microRNA (`m`) expression data:"
   ]
  },
  {
   "cell_type": "code",
   "execution_count": 3,
   "id": "a54deeda-29cd-4845-927b-067f256d61cc",
   "metadata": {},
   "outputs": [],
   "source": [
    "dt = DataFrame(Arrow.Table(datadir(\"processed\",\"findr-data-geuvadis\", \"dt.arrow\")));\n",
    "dm = DataFrame(Arrow.Table(datadir(\"processed\",\"findr-data-geuvadis\", \"dm.arrow\")));"
   ]
  },
  {
   "cell_type": "markdown",
   "id": "2d21718f-f80d-4595-8a38-f3312a1c9d6a",
   "metadata": {},
   "source": [
    "We also have genotype data for the strongest [eQTLs](https://en.wikipedia.org/wiki/Expression_quantitative_trait_loci) for a subset of mRNAs and microRNAs:"
   ]
  },
  {
   "cell_type": "code",
   "execution_count": 4,
   "id": "bbf5c98d-fdb9-4bb1-9654-aed0a1854dd9",
   "metadata": {},
   "outputs": [],
   "source": [
    "dgt = DataFrame(Arrow.Table(datadir(\"processed\",\"findr-data-geuvadis\", \"dgt.arrow\")));\n",
    "dgm = DataFrame(Arrow.Table(datadir(\"processed\",\"findr-data-geuvadis\", \"dgm.arrow\")));"
   ]
  },
  {
   "cell_type": "markdown",
   "id": "2fad9b7f-e806-4a79-a969-ab8355f13df4",
   "metadata": {},
   "source": [
    "To construct a GRN, we need a list of transcription factors. We will use a [list](https://humantfs.ccbr.utoronto.ca/allTFs.php) from the [Human Transcription Factors database](https://humantfs.ccbr.utoronto.ca/index.php):"
   ]
  },
  {
   "cell_type": "code",
   "execution_count": 5,
   "id": "67ebf48a-feff-4cb1-b2fe-f4c810d13d9e",
   "metadata": {},
   "outputs": [],
   "source": [
    "TFs = DataFrame(CSV.File(datadir(\"processed\",\"findr-data-geuvadis\", \"TF_names_v_1.01.txt\"), header=false))\n",
    "rename!(TFs, [:\"Column1\" => :GENE_ID]);"
   ]
  },
  {
   "cell_type": "markdown",
   "id": "9daf16a5-5447-4bcc-b502-0bb46ff0b2e6",
   "metadata": {},
   "source": [
    "The [preprocessed GEUVADIS data](https://github.com/lingfeiwang/findr-data-geuvadis) has been organized such that each column of the genotype data is the strongest eQTL for the corresponding column in the matching expression data. Usually however, eQTL mapping data will be available in the form of a table with variant IDs, gene IDs, and various eQTL associaion statistics (see the [original GEUVADIS file](https://www.ebi.ac.uk/biostudies/files/E-GEUV-1/E-GEUV-1/analysis_results/EUR373.gene.cis.FDR5.all.rs137.txt.gz) for an example). Let's artificially create such tables for our data (`p` for \"pairs\"):"
   ]
  },
  {
   "cell_type": "code",
   "execution_count": 6,
   "id": "cfbc8f77-c9e1-46b0-b3af-b7249706f1d5",
   "metadata": {},
   "outputs": [],
   "source": [
    "dpt = DataFrame(SNP_ID = names(dgt), GENE_ID=names(dt)[1:ncol(dgt)]);\n",
    "dpm = DataFrame(SNP_ID = names(dgm), GENE_ID=names(dm)[1:ncol(dgm)]);"
   ]
  },
  {
   "cell_type": "markdown",
   "id": "fa94b727-8afd-417a-9747-8929c8f7d70a",
   "metadata": {},
   "source": [
    "It is a common observation that TFs don't show strong variation at mRNA level, because their activity is mostly regulated at protein level. As a result, the fraction of TFs with an eQTL is only a bit more than 10%:"
   ]
  },
  {
   "cell_type": "code",
   "execution_count": 7,
   "id": "13f7aa7a-1308-4891-a378-033aafdc2ef6",
   "metadata": {},
   "outputs": [
    {
     "data": {
      "text/plain": [
       "1×2 Matrix{Int64}:\n",
       " 1639  179"
      ]
     },
     "execution_count": 7,
     "metadata": {},
     "output_type": "execute_result"
    }
   ],
   "source": [
    "[length(TFs.GENE_ID) length(intersect(TFs.GENE_ID, dpt.GENE_ID))]"
   ]
  },
  {
   "cell_type": "markdown",
   "id": "5408f0fb-93d3-4f3f-a755-335b4f3e0a1e",
   "metadata": {},
   "source": [
    "Because this tutorial is only for illustration purposes, we stick with these TFs as regulators in our network. A biological way to expand the list is to include upstream signalling molecules as \"proxies\" for TFs, as they often show more variation at mRNA level (see [this paper](https://www.nature.com/articles/ng1165#Sec7) for an example). Or one may simply accept that all networks inferred from omics data are \"functional networks\" where individual edges may correspond to indirect physical interactions, and use all genes with eQTLs as potential regulators."
   ]
  },
  {
   "cell_type": "markdown",
   "id": "1d109d99-349b-4ef8-9125-7eb9762abb8c",
   "metadata": {},
   "source": [
    "## GRN reconstruction with BioFindr\n",
    "\n",
    "We start by computing the probabilities of causal interactions from the selected TFs to all other genes using the methods explained in the [blessing of dimensionality notebook](2_blessing_of_dimensionality.ipynb). Naturally, we don't have to call the same low-level functions used there. Instead we can call a high-level `findr` function that does everything under the hood. You can read more about this function in the [BioFindr documentation](https://lab.michoel.info/BioFindr.jl/stable/testLLR/) or in the [BioFindr tutorials](https://lab.michoel.info/BioFindrTutorials/). The three first arguments in the call below point to the data and are mandatory (for causal inference). The other arguments are optional: `namesX` tells the function to only use a limited set of variables as candidate regulators (the function itself finds the intersection between `namesX` and the eQTL variables in `dpt`); `FDR` tells the function to determine a cutoff on the edge probabilities such that the overall [FDR](https://en.wikipedia.org/wiki/False_discovery_rate) is (in this case) 20%. Setting an FDR threshold does not reduce computation time, only the size of the ouptut. Hence it is recommended to set the value relatively high and, if necessary, filter for a more stringent threshold later (using the [`globalfdr!`](https://lab.michoel.info/BioFindr.jl/stable/utils/#BioFindr.globalfdr!) function)"
   ]
  },
  {
   "cell_type": "code",
   "execution_count": 8,
   "id": "4c19de24-69e4-4215-a355-c7e55d1bc717",
   "metadata": {},
   "outputs": [
    {
     "data": {
      "text/html": [
       "<div><div style = \"float: left;\"><span>8467×4 DataFrame</span></div><div style = \"float: right;\"><span style = \"font-style: italic;\">8442 rows omitted</span></div><div style = \"clear: both;\"></div></div><div class = \"data-frame\" style = \"overflow-x: scroll;\"><table class = \"data-frame\" style = \"margin-bottom: 6px;\"><thead><tr class = \"header\"><th class = \"rowNumber\" style = \"font-weight: bold; text-align: right;\">Row</th><th style = \"text-align: left;\">Source</th><th style = \"text-align: left;\">Target</th><th style = \"text-align: left;\">Probability</th><th style = \"text-align: left;\">qvalue</th></tr><tr class = \"subheader headerLastRow\"><th class = \"rowNumber\" style = \"font-weight: bold; text-align: right;\"></th><th title = \"String\" style = \"text-align: left;\">String</th><th title = \"String\" style = \"text-align: left;\">String</th><th title = \"Float64\" style = \"text-align: left;\">Float64</th><th title = \"Float64\" style = \"text-align: left;\">Float64</th></tr></thead><tbody><tr><td class = \"rowNumber\" style = \"font-weight: bold; text-align: right;\">1</td><td style = \"text-align: left;\">ZFP28</td><td style = \"text-align: left;\">ZNF470</td><td style = \"text-align: right;\">1.0</td><td style = \"text-align: right;\">0.0</td></tr><tr><td class = \"rowNumber\" style = \"font-weight: bold; text-align: right;\">2</td><td style = \"text-align: left;\">POU5F1</td><td style = \"text-align: left;\">TCF19</td><td style = \"text-align: right;\">1.0</td><td style = \"text-align: right;\">0.0</td></tr><tr><td class = \"rowNumber\" style = \"font-weight: bold; text-align: right;\">3</td><td style = \"text-align: left;\">PAX8</td><td style = \"text-align: left;\">PAX8-AS1</td><td style = \"text-align: right;\">1.0</td><td style = \"text-align: right;\">0.0</td></tr><tr><td class = \"rowNumber\" style = \"font-weight: bold; text-align: right;\">4</td><td style = \"text-align: left;\">ZNF470</td><td style = \"text-align: left;\">ZFP28</td><td style = \"text-align: right;\">1.0</td><td style = \"text-align: right;\">3.36398e-14</td></tr><tr><td class = \"rowNumber\" style = \"font-weight: bold; text-align: right;\">5</td><td style = \"text-align: left;\">ZNF71</td><td style = \"text-align: left;\">ZFP28</td><td style = \"text-align: right;\">1.0</td><td style = \"text-align: right;\">8.63309e-12</td></tr><tr><td class = \"rowNumber\" style = \"font-weight: bold; text-align: right;\">6</td><td style = \"text-align: left;\">ZNF589</td><td style = \"text-align: left;\">MRPS18AP1</td><td style = \"text-align: right;\">1.0</td><td style = \"text-align: right;\">3.24613e-11</td></tr><tr><td class = \"rowNumber\" style = \"font-weight: bold; text-align: right;\">7</td><td style = \"text-align: left;\">ZFP28</td><td style = \"text-align: left;\">ZNF71</td><td style = \"text-align: right;\">1.0</td><td style = \"text-align: right;\">5.75271e-11</td></tr><tr><td class = \"rowNumber\" style = \"font-weight: bold; text-align: right;\">8</td><td style = \"text-align: left;\">POU5F1</td><td style = \"text-align: left;\">CCHCR1</td><td style = \"text-align: right;\">1.0</td><td style = \"text-align: right;\">9.77577e-11</td></tr><tr><td class = \"rowNumber\" style = \"font-weight: bold; text-align: right;\">9</td><td style = \"text-align: left;\">ZNF71</td><td style = \"text-align: left;\">ZNF470</td><td style = \"text-align: right;\">1.0</td><td style = \"text-align: right;\">1.47325e-10</td></tr><tr><td class = \"rowNumber\" style = \"font-weight: bold; text-align: right;\">10</td><td style = \"text-align: left;\">ZNF492</td><td style = \"text-align: left;\">ZNF98</td><td style = \"text-align: right;\">1.0</td><td style = \"text-align: right;\">2.68696e-10</td></tr><tr><td class = \"rowNumber\" style = \"font-weight: bold; text-align: right;\">11</td><td style = \"text-align: left;\">ZNF470</td><td style = \"text-align: left;\">ZNF71</td><td style = \"text-align: right;\">1.0</td><td style = \"text-align: right;\">4.26356e-10</td></tr><tr><td class = \"rowNumber\" style = \"font-weight: bold; text-align: right;\">12</td><td style = \"text-align: left;\">ZNF214</td><td style = \"text-align: left;\">ZNF215</td><td style = \"text-align: right;\">1.0</td><td style = \"text-align: right;\">4.9882e-9</td></tr><tr><td class = \"rowNumber\" style = \"font-weight: bold; text-align: right;\">13</td><td style = \"text-align: left;\">ZNF506</td><td style = \"text-align: left;\">ZNF253</td><td style = \"text-align: right;\">1.0</td><td style = \"text-align: right;\">1.18507e-8</td></tr><tr><td style = \"text-align: right;\">&vellip;</td><td style = \"text-align: right;\">&vellip;</td><td style = \"text-align: right;\">&vellip;</td><td style = \"text-align: right;\">&vellip;</td><td style = \"text-align: right;\">&vellip;</td></tr><tr><td class = \"rowNumber\" style = \"font-weight: bold; text-align: right;\">8456</td><td style = \"text-align: left;\">MIXL1</td><td style = \"text-align: left;\">SCAPER</td><td style = \"text-align: right;\">0.64286</td><td style = \"text-align: right;\">0.199778</td></tr><tr><td class = \"rowNumber\" style = \"font-weight: bold; text-align: right;\">8457</td><td style = \"text-align: left;\">ZNF77</td><td style = \"text-align: left;\">MTUS2</td><td style = \"text-align: right;\">0.642815</td><td style = \"text-align: right;\">0.199797</td></tr><tr><td class = \"rowNumber\" style = \"font-weight: bold; text-align: right;\">8458</td><td style = \"text-align: left;\">SP2</td><td style = \"text-align: left;\">EIF1</td><td style = \"text-align: right;\">0.642786</td><td style = \"text-align: right;\">0.199815</td></tr><tr><td class = \"rowNumber\" style = \"font-weight: bold; text-align: right;\">8459</td><td style = \"text-align: left;\">ZNF77</td><td style = \"text-align: left;\">HCCS</td><td style = \"text-align: right;\">0.642693</td><td style = \"text-align: right;\">0.199834</td></tr><tr><td class = \"rowNumber\" style = \"font-weight: bold; text-align: right;\">8460</td><td style = \"text-align: left;\">ZNF77</td><td style = \"text-align: left;\">KAT14</td><td style = \"text-align: right;\">0.64265</td><td style = \"text-align: right;\">0.199852</td></tr><tr><td class = \"rowNumber\" style = \"font-weight: bold; text-align: right;\">8461</td><td style = \"text-align: left;\">ZNF480</td><td style = \"text-align: left;\">PA2G4P5</td><td style = \"text-align: right;\">0.642628</td><td style = \"text-align: right;\">0.199871</td></tr><tr><td class = \"rowNumber\" style = \"font-weight: bold; text-align: right;\">8462</td><td style = \"text-align: left;\">SP2</td><td style = \"text-align: left;\">RNF139-DT</td><td style = \"text-align: right;\">0.642603</td><td style = \"text-align: right;\">0.19989</td></tr><tr><td class = \"rowNumber\" style = \"font-weight: bold; text-align: right;\">8463</td><td style = \"text-align: left;\">ZNF600</td><td style = \"text-align: left;\">TRAPPC6A</td><td style = \"text-align: right;\">0.642593</td><td style = \"text-align: right;\">0.199908</td></tr><tr><td class = \"rowNumber\" style = \"font-weight: bold; text-align: right;\">8464</td><td style = \"text-align: left;\">ZNF77</td><td style = \"text-align: left;\">CARS2</td><td style = \"text-align: right;\">0.642556</td><td style = \"text-align: right;\">0.199927</td></tr><tr><td class = \"rowNumber\" style = \"font-weight: bold; text-align: right;\">8465</td><td style = \"text-align: left;\">DR1</td><td style = \"text-align: left;\">NOL6</td><td style = \"text-align: right;\">0.642515</td><td style = \"text-align: right;\">0.199945</td></tr><tr><td class = \"rowNumber\" style = \"font-weight: bold; text-align: right;\">8466</td><td style = \"text-align: left;\">ZNF600</td><td style = \"text-align: left;\">HSPB1</td><td style = \"text-align: right;\">0.642496</td><td style = \"text-align: right;\">0.199964</td></tr><tr><td class = \"rowNumber\" style = \"font-weight: bold; text-align: right;\">8467</td><td style = \"text-align: left;\">ZNF600</td><td style = \"text-align: left;\">HNRNPCP4</td><td style = \"text-align: right;\">0.642327</td><td style = \"text-align: right;\">0.199983</td></tr></tbody></table></div>"
      ],
      "text/latex": [
       "\\begin{tabular}{r|cccc}\n",
       "\t& Source & Target & Probability & qvalue\\\\\n",
       "\t\\hline\n",
       "\t& String & String & Float64 & Float64\\\\\n",
       "\t\\hline\n",
       "\t1 & ZFP28 & ZNF470 & 1.0 & 0.0 \\\\\n",
       "\t2 & POU5F1 & TCF19 & 1.0 & 0.0 \\\\\n",
       "\t3 & PAX8 & PAX8-AS1 & 1.0 & 0.0 \\\\\n",
       "\t4 & ZNF470 & ZFP28 & 1.0 & 3.36398e-14 \\\\\n",
       "\t5 & ZNF71 & ZFP28 & 1.0 & 8.63309e-12 \\\\\n",
       "\t6 & ZNF589 & MRPS18AP1 & 1.0 & 3.24613e-11 \\\\\n",
       "\t7 & ZFP28 & ZNF71 & 1.0 & 5.75271e-11 \\\\\n",
       "\t8 & POU5F1 & CCHCR1 & 1.0 & 9.77577e-11 \\\\\n",
       "\t9 & ZNF71 & ZNF470 & 1.0 & 1.47325e-10 \\\\\n",
       "\t10 & ZNF492 & ZNF98 & 1.0 & 2.68696e-10 \\\\\n",
       "\t11 & ZNF470 & ZNF71 & 1.0 & 4.26356e-10 \\\\\n",
       "\t12 & ZNF214 & ZNF215 & 1.0 & 4.9882e-9 \\\\\n",
       "\t13 & ZNF506 & ZNF253 & 1.0 & 1.18507e-8 \\\\\n",
       "\t14 & ZNF568 & ZNF793 & 1.0 & 1.98401e-8 \\\\\n",
       "\t15 & ZNF215 & ZNF214 & 1.0 & 2.9191e-8 \\\\\n",
       "\t16 & ZFP14 & ZFP82 & 0.999999 & 7.41268e-8 \\\\\n",
       "\t17 & ZNF43 & ZNF429 & 0.999999 & 1.31879e-7 \\\\\n",
       "\t18 & ZNF215 & NLRP14 & 0.999999 & 2.00762e-7 \\\\\n",
       "\t19 & ZNF304 & ZNF749 & 0.999998 & 2.91416e-7 \\\\\n",
       "\t20 & ZNF132 & ZNF584 & 0.999997 & 4.43224e-7 \\\\\n",
       "\t21 & ZNF607 & ZNF781 & 0.999995 & 6.81599e-7 \\\\\n",
       "\t22 & ZNF334 & MKRN7P & 0.999993 & 9.61045e-7 \\\\\n",
       "\t23 & KLF10 & LINC03047 & 0.999992 & 1.25538e-6 \\\\\n",
       "\t24 & MBD2 & C18orf54 & 0.999991 & 1.58698e-6 \\\\\n",
       "\t25 & TCFL5 & DPH3P1 & 0.999988 & 1.98785e-6 \\\\\n",
       "\t26 & ZNF682 & ZNF253 & 0.999985 & 2.47029e-6 \\\\\n",
       "\t27 & ZNF253 & ZNF506 & 0.999975 & 3.29091e-6 \\\\\n",
       "\t28 & ZNF606 & ZNF606-AS1 & 0.999966 & 4.39043e-6 \\\\\n",
       "\t29 & ZNF79 & RPL12P38 & 0.999849 & 9.45825e-6 \\\\\n",
       "\t30 & ZNF79 & RPL12P4 & 0.999812 & 1.54139e-5 \\\\\n",
       "\t$\\dots$ & $\\dots$ & $\\dots$ & $\\dots$ & $\\dots$ \\\\\n",
       "\\end{tabular}\n"
      ],
      "text/plain": [
       "\u001b[1m8467×4 DataFrame\u001b[0m\n",
       "\u001b[1m  Row \u001b[0m│\u001b[1m Source \u001b[0m\u001b[1m Target    \u001b[0m\u001b[1m Probability \u001b[0m\u001b[1m qvalue      \u001b[0m\n",
       "      │\u001b[90m String \u001b[0m\u001b[90m String    \u001b[0m\u001b[90m Float64     \u001b[0m\u001b[90m Float64     \u001b[0m\n",
       "──────┼─────────────────────────────────────────────\n",
       "    1 │ ZFP28   ZNF470        1.0       0.0\n",
       "    2 │ POU5F1  TCF19         1.0       0.0\n",
       "    3 │ PAX8    PAX8-AS1      1.0       0.0\n",
       "    4 │ ZNF470  ZFP28         1.0       3.36398e-14\n",
       "    5 │ ZNF71   ZFP28         1.0       8.63309e-12\n",
       "    6 │ ZNF589  MRPS18AP1     1.0       3.24613e-11\n",
       "    7 │ ZFP28   ZNF71         1.0       5.75271e-11\n",
       "    8 │ POU5F1  CCHCR1        1.0       9.77577e-11\n",
       "    9 │ ZNF71   ZNF470        1.0       1.47325e-10\n",
       "   10 │ ZNF492  ZNF98         1.0       2.68696e-10\n",
       "   11 │ ZNF470  ZNF71         1.0       4.26356e-10\n",
       "  ⋮   │   ⋮         ⋮           ⋮            ⋮\n",
       " 8458 │ SP2     EIF1          0.642786  0.199815\n",
       " 8459 │ ZNF77   HCCS          0.642693  0.199834\n",
       " 8460 │ ZNF77   KAT14         0.64265   0.199852\n",
       " 8461 │ ZNF480  PA2G4P5       0.642628  0.199871\n",
       " 8462 │ SP2     RNF139-DT     0.642603  0.19989\n",
       " 8463 │ ZNF600  TRAPPC6A      0.642593  0.199908\n",
       " 8464 │ ZNF77   CARS2         0.642556  0.199927\n",
       " 8465 │ DR1     NOL6          0.642515  0.199945\n",
       " 8466 │ ZNF600  HSPB1         0.642496  0.199964\n",
       " 8467 │ ZNF600  HNRNPCP4      0.642327  0.199983\n",
       "\u001b[36m                                   8446 rows omitted\u001b[0m"
      ]
     },
     "execution_count": 8,
     "metadata": {},
     "output_type": "execute_result"
    }
   ],
   "source": [
    "dP_TF_mRNA = findr(dt, dgt, dpt; namesX=TFs.GENE_ID, FDR=0.2)"
   ]
  },
  {
   "cell_type": "markdown",
   "id": "190bd6f6-f65f-4751-a3b5-1af08c19a3f5",
   "metadata": {},
   "source": [
    "We observe a total of more than 8,000 interactions at the FDR=20% threshold. To see how they are distributed over the individual TFs, we do a bit of [data wrangling](https://dataframes.juliadata.org/stable/). We see that three TFs are responsible for more than half of the interactions:"
   ]
  },
  {
   "cell_type": "code",
   "execution_count": 9,
   "id": "ebc26956-61c0-468a-a9bf-b0cfa118b148",
   "metadata": {},
   "outputs": [],
   "source": [
    "gdf = groupby(dP_TF_mRNA, :Source);"
   ]
  },
  {
   "cell_type": "code",
   "execution_count": 10,
   "id": "96828b9f-9025-4d7a-bd27-994a2295d447",
   "metadata": {},
   "outputs": [
    {
     "data": {
      "text/html": [
       "<div><div style = \"float: left;\"><span>114×2 DataFrame</span></div><div style = \"float: right;\"><span style = \"font-style: italic;\">89 rows omitted</span></div><div style = \"clear: both;\"></div></div><div class = \"data-frame\" style = \"overflow-x: scroll;\"><table class = \"data-frame\" style = \"margin-bottom: 6px;\"><thead><tr class = \"header\"><th class = \"rowNumber\" style = \"font-weight: bold; text-align: right;\">Row</th><th style = \"text-align: left;\">Source</th><th style = \"text-align: left;\">nrow</th></tr><tr class = \"subheader headerLastRow\"><th class = \"rowNumber\" style = \"font-weight: bold; text-align: right;\"></th><th title = \"String\" style = \"text-align: left;\">String</th><th title = \"Int64\" style = \"text-align: left;\">Int64</th></tr></thead><tbody><tr><td class = \"rowNumber\" style = \"font-weight: bold; text-align: right;\">1</td><td style = \"text-align: left;\">SP2</td><td style = \"text-align: right;\">3086</td></tr><tr><td class = \"rowNumber\" style = \"font-weight: bold; text-align: right;\">2</td><td style = \"text-align: left;\">ZNF77</td><td style = \"text-align: right;\">2666</td></tr><tr><td class = \"rowNumber\" style = \"font-weight: bold; text-align: right;\">3</td><td style = \"text-align: left;\">ZNF600</td><td style = \"text-align: right;\">1252</td></tr><tr><td class = \"rowNumber\" style = \"font-weight: bold; text-align: right;\">4</td><td style = \"text-align: left;\">ZNF79</td><td style = \"text-align: right;\">119</td></tr><tr><td class = \"rowNumber\" style = \"font-weight: bold; text-align: right;\">5</td><td style = \"text-align: left;\">ZNF580</td><td style = \"text-align: right;\">111</td></tr><tr><td class = \"rowNumber\" style = \"font-weight: bold; text-align: right;\">6</td><td style = \"text-align: left;\">ZNF529</td><td style = \"text-align: right;\">95</td></tr><tr><td class = \"rowNumber\" style = \"font-weight: bold; text-align: right;\">7</td><td style = \"text-align: left;\">PIN1</td><td style = \"text-align: right;\">89</td></tr><tr><td class = \"rowNumber\" style = \"font-weight: bold; text-align: right;\">8</td><td style = \"text-align: left;\">ZFP82</td><td style = \"text-align: right;\">70</td></tr><tr><td class = \"rowNumber\" style = \"font-weight: bold; text-align: right;\">9</td><td style = \"text-align: left;\">ZSCAN21</td><td style = \"text-align: right;\">55</td></tr><tr><td class = \"rowNumber\" style = \"font-weight: bold; text-align: right;\">10</td><td style = \"text-align: left;\">ZNF615</td><td style = \"text-align: right;\">48</td></tr><tr><td class = \"rowNumber\" style = \"font-weight: bold; text-align: right;\">11</td><td style = \"text-align: left;\">ZNF480</td><td style = \"text-align: right;\">45</td></tr><tr><td class = \"rowNumber\" style = \"font-weight: bold; text-align: right;\">12</td><td style = \"text-align: left;\">ATF6</td><td style = \"text-align: right;\">33</td></tr><tr><td class = \"rowNumber\" style = \"font-weight: bold; text-align: right;\">13</td><td style = \"text-align: left;\">PRDM15</td><td style = \"text-align: right;\">28</td></tr><tr><td style = \"text-align: right;\">&vellip;</td><td style = \"text-align: right;\">&vellip;</td><td style = \"text-align: right;\">&vellip;</td></tr><tr><td class = \"rowNumber\" style = \"font-weight: bold; text-align: right;\">103</td><td style = \"text-align: left;\">HES6</td><td style = \"text-align: right;\">1</td></tr><tr><td class = \"rowNumber\" style = \"font-weight: bold; text-align: right;\">104</td><td style = \"text-align: left;\">PPARG</td><td style = \"text-align: right;\">1</td></tr><tr><td class = \"rowNumber\" style = \"font-weight: bold; text-align: right;\">105</td><td style = \"text-align: left;\">ZNF846</td><td style = \"text-align: right;\">1</td></tr><tr><td class = \"rowNumber\" style = \"font-weight: bold; text-align: right;\">106</td><td style = \"text-align: left;\">ELK4</td><td style = \"text-align: right;\">1</td></tr><tr><td class = \"rowNumber\" style = \"font-weight: bold; text-align: right;\">107</td><td style = \"text-align: left;\">ATF5</td><td style = \"text-align: right;\">1</td></tr><tr><td class = \"rowNumber\" style = \"font-weight: bold; text-align: right;\">108</td><td style = \"text-align: left;\">ZNF512B</td><td style = \"text-align: right;\">1</td></tr><tr><td class = \"rowNumber\" style = \"font-weight: bold; text-align: right;\">109</td><td style = \"text-align: left;\">ZNF304</td><td style = \"text-align: right;\">1</td></tr><tr><td class = \"rowNumber\" style = \"font-weight: bold; text-align: right;\">110</td><td style = \"text-align: left;\">ZNF493</td><td style = \"text-align: right;\">1</td></tr><tr><td class = \"rowNumber\" style = \"font-weight: bold; text-align: right;\">111</td><td style = \"text-align: left;\">ZNF568</td><td style = \"text-align: right;\">1</td></tr><tr><td class = \"rowNumber\" style = \"font-weight: bold; text-align: right;\">112</td><td style = \"text-align: left;\">PAX8</td><td style = \"text-align: right;\">1</td></tr><tr><td class = \"rowNumber\" style = \"font-weight: bold; text-align: right;\">113</td><td style = \"text-align: left;\">ZNF286A</td><td style = \"text-align: right;\">1</td></tr><tr><td class = \"rowNumber\" style = \"font-weight: bold; text-align: right;\">114</td><td style = \"text-align: left;\">ZNF793</td><td style = \"text-align: right;\">1</td></tr></tbody></table></div>"
      ],
      "text/latex": [
       "\\begin{tabular}{r|cc}\n",
       "\t& Source & nrow\\\\\n",
       "\t\\hline\n",
       "\t& String & Int64\\\\\n",
       "\t\\hline\n",
       "\t1 & SP2 & 3086 \\\\\n",
       "\t2 & ZNF77 & 2666 \\\\\n",
       "\t3 & ZNF600 & 1252 \\\\\n",
       "\t4 & ZNF79 & 119 \\\\\n",
       "\t5 & ZNF580 & 111 \\\\\n",
       "\t6 & ZNF529 & 95 \\\\\n",
       "\t7 & PIN1 & 89 \\\\\n",
       "\t8 & ZFP82 & 70 \\\\\n",
       "\t9 & ZSCAN21 & 55 \\\\\n",
       "\t10 & ZNF615 & 48 \\\\\n",
       "\t11 & ZNF480 & 45 \\\\\n",
       "\t12 & ATF6 & 33 \\\\\n",
       "\t13 & PRDM15 & 28 \\\\\n",
       "\t14 & PBX3 & 28 \\\\\n",
       "\t15 & ZFP30 & 27 \\\\\n",
       "\t16 & DR1 & 25 \\\\\n",
       "\t17 & MYBL2 & 25 \\\\\n",
       "\t18 & IRF5 & 24 \\\\\n",
       "\t19 & ZNF329 & 23 \\\\\n",
       "\t20 & ZNF404 & 23 \\\\\n",
       "\t21 & BATF3 & 22 \\\\\n",
       "\t22 & ZNF253 & 22 \\\\\n",
       "\t23 & CSRNP1 & 22 \\\\\n",
       "\t24 & ZNF431 & 21 \\\\\n",
       "\t25 & ZFP1 & 20 \\\\\n",
       "\t26 & ZNF548 & 18 \\\\\n",
       "\t27 & MAFF & 17 \\\\\n",
       "\t28 & KLF10 & 17 \\\\\n",
       "\t29 & ZNF708 & 17 \\\\\n",
       "\t30 & HNF4G & 17 \\\\\n",
       "\t$\\dots$ & $\\dots$ & $\\dots$ \\\\\n",
       "\\end{tabular}\n"
      ],
      "text/plain": [
       "\u001b[1m114×2 DataFrame\u001b[0m\n",
       "\u001b[1m Row \u001b[0m│\u001b[1m Source  \u001b[0m\u001b[1m nrow  \u001b[0m\n",
       "     │\u001b[90m String  \u001b[0m\u001b[90m Int64 \u001b[0m\n",
       "─────┼────────────────\n",
       "   1 │ SP2       3086\n",
       "   2 │ ZNF77     2666\n",
       "   3 │ ZNF600    1252\n",
       "   4 │ ZNF79      119\n",
       "   5 │ ZNF580     111\n",
       "   6 │ ZNF529      95\n",
       "   7 │ PIN1        89\n",
       "   8 │ ZFP82       70\n",
       "   9 │ ZSCAN21     55\n",
       "  10 │ ZNF615      48\n",
       "  11 │ ZNF480      45\n",
       "  ⋮  │    ⋮       ⋮\n",
       " 105 │ ZNF846       1\n",
       " 106 │ ELK4         1\n",
       " 107 │ ATF5         1\n",
       " 108 │ ZNF512B      1\n",
       " 109 │ ZNF304       1\n",
       " 110 │ ZNF493       1\n",
       " 111 │ ZNF568       1\n",
       " 112 │ PAX8         1\n",
       " 113 │ ZNF286A      1\n",
       " 114 │ ZNF793       1\n",
       "\u001b[36m       93 rows omitted\u001b[0m"
      ]
     },
     "execution_count": 10,
     "metadata": {},
     "output_type": "execute_result"
    }
   ],
   "source": [
    "cdf = sort!(combine(gdf, nrow),:nrow, rev=true)"
   ]
  },
  {
   "cell_type": "markdown",
   "id": "edcfc932-5289-475f-9d8d-8197ef17225b",
   "metadata": {},
   "source": [
    "<div style=\"background-color:LightYellow; color:black\">\n",
    "<h3>Exercise</h3> \n",
    "     Replace the command below to identify causal microRNA -> microRNA interactions and repeat the steps above to find the number of interactions per microRNA.\n",
    "</div>"
   ]
  },
  {
   "cell_type": "code",
   "execution_count": 18,
   "id": "2b0b4984-69df-4289-bfd3-3d43dd6285d3",
   "metadata": {},
   "outputs": [],
   "source": [
    "dP_miRNA_miRNA = DataFrame(:Source => [], :Target => [], :Probability => [], :qvalue => []);"
   ]
  },
  {
   "cell_type": "markdown",
   "id": "7ac3b241-4cbf-4ab6-ae01-6f3ebbf66dee",
   "metadata": {},
   "source": [
    "So far we have reconstructed causal networks *within* a single dataset (mRNA or microRNA expression data) using eQTLs for a subset of variables as causal instruments. We can also reconstruct *bipartite* networks where the source nodes (regulators) come from one dataset and the target nodes from another dataset, as long as the variables in both dataset are measure in the same set of samples. For instance, to idenfity causal interactions *from* TFs *to* microRNAs, we run:"
   ]
  },
  {
   "cell_type": "code",
   "execution_count": 13,
   "id": "3e05e6ec-238e-4a1e-834a-519bf449b3fb",
   "metadata": {},
   "outputs": [],
   "source": [
    "dP_TF_miRNA = findr(dm, dt, dgt, dpt; namesX=TFs.GENE_ID, FDR=0.2);"
   ]
  },
  {
   "cell_type": "markdown",
   "id": "0a2b457f-e6df-458e-aab0-018a851c3a91",
   "metadata": {},
   "source": [
    "<div style=\"background-color:LightYellow; color:black\">\n",
    "<h3>Exercise</h3> \n",
    "     Repeat the steps above to find the number of interactions per TF. \n",
    "</div>"
   ]
  },
  {
   "cell_type": "markdown",
   "id": "c6205ea9-0f43-48c9-a189-4ae2c67dcfec",
   "metadata": {},
   "source": [
    "<div style=\"background-color:LightYellow; color:black\">\n",
    "<h3>Exercise</h3> \n",
    "     Replace the command below to identify causal microRNA -> mRNA interactions and repeat the steps above to find the number of interactions per microRNA.\n",
    "</div>"
   ]
  },
  {
   "cell_type": "code",
   "execution_count": 19,
   "id": "d5c71597-d3ef-4929-bead-75a98ab30899",
   "metadata": {},
   "outputs": [],
   "source": [
    "dP_miRNA_mRNA = DataFrame(:Source => [], :Target => [], :Probability => [], :qvalue => []);"
   ]
  },
  {
   "cell_type": "markdown",
   "id": "9159a185-31fe-4ca9-a40c-d71a6ea96e99",
   "metadata": {},
   "source": [
    "We can now collect all results in a final dataframe containing our predicted GRN interactions at FDR=20%, sorted by descending probability:"
   ]
  },
  {
   "cell_type": "code",
   "execution_count": 21,
   "id": "3fbf4864-1b52-4bab-955b-6fe28c90b507",
   "metadata": {},
   "outputs": [],
   "source": [
    "dP = sort!(vcat(dP_TF_mRNA, dP_miRNA_miRNA, dP_TF_miRNA, dP_miRNA_mRNA), :Probability, rev=true);"
   ]
  },
  {
   "cell_type": "markdown",
   "id": "056ff6fb-3e2b-43e9-bb6d-a54ed41cebf8",
   "metadata": {},
   "source": [
    "## Directed acyclic graph reconstruction\n",
    "\n",
    "In some applications we need graphs that don't contain cycles, so-called [directed acyclic graphs (DAGs)](https://en.wikipedia.org/wiki/Directed_acyclic_graph). For instance, if we want to use the predicted GRN as a structure prior for a [Bayesian network](https://en.wikipedia.org/wiki/Bayesian_network), as done in [this paper](https://doi.org/10.3389/fgene.2019.01196), or if we are looking for a [hierarchical GRN representation](https://doi.org/10.1038/nrg2499). [BioFindr](https://github.com/tmichoel/BioFindr.jl) implements a greedy heuristic to create a DAG from a dataframe of edges, which inserts edges one-by-one into the DAG by descending probability, skipping edges that would introduce a cycle (see the [documentation](https://lab.michoel.info/BioFindr.jl/dev/bayesiannets/#BioFindr.dagfindr!) for more info). We can create a DAG for the complete list of edges:"
   ]
  },
  {
   "cell_type": "code",
   "execution_count": 24,
   "id": "6829b28c-44a4-47e3-b4e6-db810e2e413d",
   "metadata": {},
   "outputs": [],
   "source": [
    "G_all = dagfindr!(dP);"
   ]
  },
  {
   "cell_type": "markdown",
   "id": "11bfcf3c-9ec8-4184-8882-46e88f5dd88c",
   "metadata": {},
   "source": [
    "The DAG information has been added to `dP` in the form of a boolean column indicating whether an edge is included in the DAG or not. Two additional columns, `Source_idx` and `Target_idx` give a mapping from node names (Gene IDs) to numerical IDs; these IDs are used to identify nodes in `G_all`, a [directed graph object](https://juliagraphs.org/Graphs.jl/dev/core_functions/simplegraphs/#Graphs.SimpleGraphs.SimpleDiGraph)  from the [Graphs package](https://juliagraphs.org/Graphs.jl/dev/):"
   ]
  },
  {
   "cell_type": "code",
   "execution_count": 25,
   "id": "4a20caf4-00c9-428c-8411-5ac313270cef",
   "metadata": {},
   "outputs": [
    {
     "data": {
      "text/html": [
       "<div><div style = \"float: left;\"><span>8473×7 DataFrame</span></div><div style = \"float: right;\"><span style = \"font-style: italic;\">8448 rows omitted</span></div><div style = \"clear: both;\"></div></div><div class = \"data-frame\" style = \"overflow-x: scroll;\"><table class = \"data-frame\" style = \"margin-bottom: 6px;\"><thead><tr class = \"header\"><th class = \"rowNumber\" style = \"font-weight: bold; text-align: right;\">Row</th><th style = \"text-align: left;\">Source</th><th style = \"text-align: left;\">Target</th><th style = \"text-align: left;\">Probability</th><th style = \"text-align: left;\">qvalue</th><th style = \"text-align: left;\">Source_idx</th><th style = \"text-align: left;\">Target_idx</th><th style = \"text-align: left;\">inDAG_greedy_edges</th></tr><tr class = \"subheader headerLastRow\"><th class = \"rowNumber\" style = \"font-weight: bold; text-align: right;\"></th><th title = \"Any\" style = \"text-align: left;\">Any</th><th title = \"Any\" style = \"text-align: left;\">Any</th><th title = \"Any\" style = \"text-align: left;\">Any</th><th title = \"Any\" style = \"text-align: left;\">Any</th><th title = \"Int64\" style = \"text-align: left;\">Int64</th><th title = \"Int64\" style = \"text-align: left;\">Int64</th><th title = \"Bool\" style = \"text-align: left;\">Bool</th></tr></thead><tbody><tr><td class = \"rowNumber\" style = \"font-weight: bold; text-align: right;\">1</td><td style = \"text-align: left;\">ZFP28</td><td style = \"text-align: left;\">ZNF470</td><td style = \"text-align: left;\">1.0</td><td style = \"text-align: left;\">0.0</td><td style = \"text-align: right;\">1</td><td style = \"text-align: right;\">4</td><td style = \"text-align: right;\">true</td></tr><tr><td class = \"rowNumber\" style = \"font-weight: bold; text-align: right;\">2</td><td style = \"text-align: left;\">POU5F1</td><td style = \"text-align: left;\">TCF19</td><td style = \"text-align: left;\">1.0</td><td style = \"text-align: left;\">0.0</td><td style = \"text-align: right;\">2</td><td style = \"text-align: right;\">116</td><td style = \"text-align: right;\">true</td></tr><tr><td class = \"rowNumber\" style = \"font-weight: bold; text-align: right;\">3</td><td style = \"text-align: left;\">PAX8</td><td style = \"text-align: left;\">PAX8-AS1</td><td style = \"text-align: left;\">1.0</td><td style = \"text-align: left;\">0.0</td><td style = \"text-align: right;\">3</td><td style = \"text-align: right;\">117</td><td style = \"text-align: right;\">true</td></tr><tr><td class = \"rowNumber\" style = \"font-weight: bold; text-align: right;\">4</td><td style = \"text-align: left;\">ZNF470</td><td style = \"text-align: left;\">ZFP28</td><td style = \"text-align: left;\">1.0</td><td style = \"text-align: left;\">3.36398e-14</td><td style = \"text-align: right;\">4</td><td style = \"text-align: right;\">1</td><td style = \"text-align: right;\">false</td></tr><tr><td class = \"rowNumber\" style = \"font-weight: bold; text-align: right;\">5</td><td style = \"text-align: left;\">ZNF71</td><td style = \"text-align: left;\">ZFP28</td><td style = \"text-align: left;\">1.0</td><td style = \"text-align: left;\">8.63309e-12</td><td style = \"text-align: right;\">5</td><td style = \"text-align: right;\">1</td><td style = \"text-align: right;\">true</td></tr><tr><td class = \"rowNumber\" style = \"font-weight: bold; text-align: right;\">6</td><td style = \"text-align: left;\">ZNF589</td><td style = \"text-align: left;\">MRPS18AP1</td><td style = \"text-align: left;\">1.0</td><td style = \"text-align: left;\">3.24613e-11</td><td style = \"text-align: right;\">6</td><td style = \"text-align: right;\">118</td><td style = \"text-align: right;\">true</td></tr><tr><td class = \"rowNumber\" style = \"font-weight: bold; text-align: right;\">7</td><td style = \"text-align: left;\">ZFP28</td><td style = \"text-align: left;\">ZNF71</td><td style = \"text-align: left;\">1.0</td><td style = \"text-align: left;\">5.75271e-11</td><td style = \"text-align: right;\">1</td><td style = \"text-align: right;\">5</td><td style = \"text-align: right;\">false</td></tr><tr><td class = \"rowNumber\" style = \"font-weight: bold; text-align: right;\">8</td><td style = \"text-align: left;\">POU5F1</td><td style = \"text-align: left;\">CCHCR1</td><td style = \"text-align: left;\">1.0</td><td style = \"text-align: left;\">9.77577e-11</td><td style = \"text-align: right;\">2</td><td style = \"text-align: right;\">119</td><td style = \"text-align: right;\">true</td></tr><tr><td class = \"rowNumber\" style = \"font-weight: bold; text-align: right;\">9</td><td style = \"text-align: left;\">ZNF71</td><td style = \"text-align: left;\">ZNF470</td><td style = \"text-align: left;\">1.0</td><td style = \"text-align: left;\">1.47325e-10</td><td style = \"text-align: right;\">5</td><td style = \"text-align: right;\">4</td><td style = \"text-align: right;\">true</td></tr><tr><td class = \"rowNumber\" style = \"font-weight: bold; text-align: right;\">10</td><td style = \"text-align: left;\">ZNF492</td><td style = \"text-align: left;\">ZNF98</td><td style = \"text-align: left;\">1.0</td><td style = \"text-align: left;\">2.68696e-10</td><td style = \"text-align: right;\">7</td><td style = \"text-align: right;\">120</td><td style = \"text-align: right;\">true</td></tr><tr><td class = \"rowNumber\" style = \"font-weight: bold; text-align: right;\">11</td><td style = \"text-align: left;\">ZNF470</td><td style = \"text-align: left;\">ZNF71</td><td style = \"text-align: left;\">1.0</td><td style = \"text-align: left;\">4.26356e-10</td><td style = \"text-align: right;\">4</td><td style = \"text-align: right;\">5</td><td style = \"text-align: right;\">false</td></tr><tr><td class = \"rowNumber\" style = \"font-weight: bold; text-align: right;\">12</td><td style = \"text-align: left;\">ZNF214</td><td style = \"text-align: left;\">ZNF215</td><td style = \"text-align: left;\">1.0</td><td style = \"text-align: left;\">4.9882e-9</td><td style = \"text-align: right;\">8</td><td style = \"text-align: right;\">11</td><td style = \"text-align: right;\">true</td></tr><tr><td class = \"rowNumber\" style = \"font-weight: bold; text-align: right;\">13</td><td style = \"text-align: left;\">ZNF506</td><td style = \"text-align: left;\">ZNF253</td><td style = \"text-align: left;\">1.0</td><td style = \"text-align: left;\">1.18507e-8</td><td style = \"text-align: right;\">9</td><td style = \"text-align: right;\">22</td><td style = \"text-align: right;\">true</td></tr><tr><td style = \"text-align: right;\">&vellip;</td><td style = \"text-align: right;\">&vellip;</td><td style = \"text-align: right;\">&vellip;</td><td style = \"text-align: right;\">&vellip;</td><td style = \"text-align: right;\">&vellip;</td><td style = \"text-align: right;\">&vellip;</td><td style = \"text-align: right;\">&vellip;</td><td style = \"text-align: right;\">&vellip;</td></tr><tr><td class = \"rowNumber\" style = \"font-weight: bold; text-align: right;\">8462</td><td style = \"text-align: left;\">MIXL1</td><td style = \"text-align: left;\">SCAPER</td><td style = \"text-align: left;\">0.64286</td><td style = \"text-align: left;\">0.199778</td><td style = \"text-align: right;\">88</td><td style = \"text-align: right;\">5836</td><td style = \"text-align: right;\">true</td></tr><tr><td class = \"rowNumber\" style = \"font-weight: bold; text-align: right;\">8463</td><td style = \"text-align: left;\">ZNF77</td><td style = \"text-align: left;\">MTUS2</td><td style = \"text-align: left;\">0.642815</td><td style = \"text-align: left;\">0.199797</td><td style = \"text-align: right;\">38</td><td style = \"text-align: right;\">5837</td><td style = \"text-align: right;\">true</td></tr><tr><td class = \"rowNumber\" style = \"font-weight: bold; text-align: right;\">8464</td><td style = \"text-align: left;\">SP2</td><td style = \"text-align: left;\">EIF1</td><td style = \"text-align: left;\">0.642786</td><td style = \"text-align: left;\">0.199815</td><td style = \"text-align: right;\">37</td><td style = \"text-align: right;\">3913</td><td style = \"text-align: right;\">true</td></tr><tr><td class = \"rowNumber\" style = \"font-weight: bold; text-align: right;\">8465</td><td style = \"text-align: left;\">ZNF77</td><td style = \"text-align: left;\">HCCS</td><td style = \"text-align: left;\">0.642693</td><td style = \"text-align: left;\">0.199834</td><td style = \"text-align: right;\">38</td><td style = \"text-align: right;\">5838</td><td style = \"text-align: right;\">true</td></tr><tr><td class = \"rowNumber\" style = \"font-weight: bold; text-align: right;\">8466</td><td style = \"text-align: left;\">ZNF77</td><td style = \"text-align: left;\">KAT14</td><td style = \"text-align: left;\">0.64265</td><td style = \"text-align: left;\">0.199852</td><td style = \"text-align: right;\">38</td><td style = \"text-align: right;\">5839</td><td style = \"text-align: right;\">true</td></tr><tr><td class = \"rowNumber\" style = \"font-weight: bold; text-align: right;\">8467</td><td style = \"text-align: left;\">ZNF480</td><td style = \"text-align: left;\">PA2G4P5</td><td style = \"text-align: left;\">0.642628</td><td style = \"text-align: left;\">0.199871</td><td style = \"text-align: right;\">59</td><td style = \"text-align: right;\">994</td><td style = \"text-align: right;\">true</td></tr><tr><td class = \"rowNumber\" style = \"font-weight: bold; text-align: right;\">8468</td><td style = \"text-align: left;\">SP2</td><td style = \"text-align: left;\">RNF139-DT</td><td style = \"text-align: left;\">0.642603</td><td style = \"text-align: left;\">0.19989</td><td style = \"text-align: right;\">37</td><td style = \"text-align: right;\">5840</td><td style = \"text-align: right;\">true</td></tr><tr><td class = \"rowNumber\" style = \"font-weight: bold; text-align: right;\">8469</td><td style = \"text-align: left;\">ZNF600</td><td style = \"text-align: left;\">TRAPPC6A</td><td style = \"text-align: left;\">0.642593</td><td style = \"text-align: left;\">0.199908</td><td style = \"text-align: right;\">40</td><td style = \"text-align: right;\">5841</td><td style = \"text-align: right;\">true</td></tr><tr><td class = \"rowNumber\" style = \"font-weight: bold; text-align: right;\">8470</td><td style = \"text-align: left;\">ZNF77</td><td style = \"text-align: left;\">CARS2</td><td style = \"text-align: left;\">0.642556</td><td style = \"text-align: left;\">0.199927</td><td style = \"text-align: right;\">38</td><td style = \"text-align: right;\">5842</td><td style = \"text-align: right;\">true</td></tr><tr><td class = \"rowNumber\" style = \"font-weight: bold; text-align: right;\">8471</td><td style = \"text-align: left;\">DR1</td><td style = \"text-align: left;\">NOL6</td><td style = \"text-align: left;\">0.642515</td><td style = \"text-align: left;\">0.199945</td><td style = \"text-align: right;\">58</td><td style = \"text-align: right;\">332</td><td style = \"text-align: right;\">true</td></tr><tr><td class = \"rowNumber\" style = \"font-weight: bold; text-align: right;\">8472</td><td style = \"text-align: left;\">ZNF600</td><td style = \"text-align: left;\">HSPB1</td><td style = \"text-align: left;\">0.642496</td><td style = \"text-align: left;\">0.199964</td><td style = \"text-align: right;\">40</td><td style = \"text-align: right;\">5843</td><td style = \"text-align: right;\">true</td></tr><tr><td class = \"rowNumber\" style = \"font-weight: bold; text-align: right;\">8473</td><td style = \"text-align: left;\">ZNF600</td><td style = \"text-align: left;\">HNRNPCP4</td><td style = \"text-align: left;\">0.642327</td><td style = \"text-align: left;\">0.199983</td><td style = \"text-align: right;\">40</td><td style = \"text-align: right;\">5844</td><td style = \"text-align: right;\">true</td></tr></tbody></table></div>"
      ],
      "text/latex": [
       "\\begin{tabular}{r|ccccccc}\n",
       "\t& Source & Target & Probability & qvalue & Source\\_idx & Target\\_idx & inDAG\\_greedy\\_edges\\\\\n",
       "\t\\hline\n",
       "\t& Any & Any & Any & Any & Int64 & Int64 & Bool\\\\\n",
       "\t\\hline\n",
       "\t1 & ZFP28 & ZNF470 & 1.0 & 0.0 & 1 & 4 & 1 \\\\\n",
       "\t2 & POU5F1 & TCF19 & 1.0 & 0.0 & 2 & 116 & 1 \\\\\n",
       "\t3 & PAX8 & PAX8-AS1 & 1.0 & 0.0 & 3 & 117 & 1 \\\\\n",
       "\t4 & ZNF470 & ZFP28 & 1.0 & 3.36398e-14 & 4 & 1 & 0 \\\\\n",
       "\t5 & ZNF71 & ZFP28 & 1.0 & 8.63309e-12 & 5 & 1 & 1 \\\\\n",
       "\t6 & ZNF589 & MRPS18AP1 & 1.0 & 3.24613e-11 & 6 & 118 & 1 \\\\\n",
       "\t7 & ZFP28 & ZNF71 & 1.0 & 5.75271e-11 & 1 & 5 & 0 \\\\\n",
       "\t8 & POU5F1 & CCHCR1 & 1.0 & 9.77577e-11 & 2 & 119 & 1 \\\\\n",
       "\t9 & ZNF71 & ZNF470 & 1.0 & 1.47325e-10 & 5 & 4 & 1 \\\\\n",
       "\t10 & ZNF492 & ZNF98 & 1.0 & 2.68696e-10 & 7 & 120 & 1 \\\\\n",
       "\t11 & ZNF470 & ZNF71 & 1.0 & 4.26356e-10 & 4 & 5 & 0 \\\\\n",
       "\t12 & ZNF214 & ZNF215 & 1.0 & 4.9882e-9 & 8 & 11 & 1 \\\\\n",
       "\t13 & ZNF506 & ZNF253 & 1.0 & 1.18507e-8 & 9 & 22 & 1 \\\\\n",
       "\t14 & ZNF568 & ZNF793 & 1.0 & 1.98401e-8 & 10 & 62 & 1 \\\\\n",
       "\t15 & ZNF215 & ZNF214 & 1.0 & 2.9191e-8 & 11 & 8 & 0 \\\\\n",
       "\t16 & ZFP14 & ZFP82 & 0.999999 & 7.41268e-8 & 12 & 51 & 1 \\\\\n",
       "\t17 & ZNF43 & ZNF429 & 0.999999 & 1.31879e-7 & 13 & 121 & 1 \\\\\n",
       "\t18 & ZNF215 & NLRP14 & 0.999999 & 2.00762e-7 & 11 & 122 & 1 \\\\\n",
       "\t19 & ZNF304 & ZNF749 & 0.999998 & 2.91416e-7 & 14 & 123 & 1 \\\\\n",
       "\t20 & ZNF132 & ZNF584 & 0.999997 & 4.43224e-7 & 15 & 30 & 1 \\\\\n",
       "\t21 & ZNF607 & ZNF781 & 0.999995 & 6.81599e-7 & 16 & 89 & 1 \\\\\n",
       "\t22 & ZNF334 & MKRN7P & 0.999993 & 9.61045e-7 & 17 & 124 & 1 \\\\\n",
       "\t23 & KLF10 & LINC03047 & 0.999992 & 1.25538e-6 & 18 & 125 & 1 \\\\\n",
       "\t24 & MBD2 & C18orf54 & 0.999991 & 1.58698e-6 & 19 & 126 & 1 \\\\\n",
       "\t25 & TCFL5 & DPH3P1 & 0.999988 & 1.98785e-6 & 20 & 127 & 1 \\\\\n",
       "\t26 & ZNF682 & ZNF253 & 0.999985 & 2.47029e-6 & 21 & 22 & 1 \\\\\n",
       "\t27 & ZNF253 & ZNF506 & 0.999975 & 3.29091e-6 & 22 & 9 & 0 \\\\\n",
       "\t28 & ZNF606 & ZNF606-AS1 & 0.999966 & 4.39043e-6 & 23 & 128 & 1 \\\\\n",
       "\t29 & ZNF79 & RPL12P38 & 0.999849 & 9.45825e-6 & 24 & 129 & 1 \\\\\n",
       "\t30 & ZNF79 & RPL12P4 & 0.999812 & 1.54139e-5 & 24 & 130 & 1 \\\\\n",
       "\t$\\dots$ & $\\dots$ & $\\dots$ & $\\dots$ & $\\dots$ & $\\dots$ & $\\dots$ & $\\dots$ \\\\\n",
       "\\end{tabular}\n"
      ],
      "text/plain": [
       "\u001b[1m8473×7 DataFrame\u001b[0m\n",
       "\u001b[1m  Row \u001b[0m│\u001b[1m Source \u001b[0m\u001b[1m Target    \u001b[0m\u001b[1m Probability \u001b[0m\u001b[1m qvalue      \u001b[0m\u001b[1m Source_idx \u001b[0m\u001b[1m Target_idx \u001b[0m\u001b[1m i\u001b[0m ⋯\n",
       "      │\u001b[90m Any    \u001b[0m\u001b[90m Any       \u001b[0m\u001b[90m Any         \u001b[0m\u001b[90m Any         \u001b[0m\u001b[90m Int64      \u001b[0m\u001b[90m Int64      \u001b[0m\u001b[90m B\u001b[0m ⋯\n",
       "──────┼─────────────────────────────────────────────────────────────────────────\n",
       "    1 │ ZFP28   ZNF470     1.0          0.0                   1           4    ⋯\n",
       "    2 │ POU5F1  TCF19      1.0          0.0                   2         116\n",
       "    3 │ PAX8    PAX8-AS1   1.0          0.0                   3         117\n",
       "    4 │ ZNF470  ZFP28      1.0          3.36398e-14           4           1\n",
       "    5 │ ZNF71   ZFP28      1.0          8.63309e-12           5           1    ⋯\n",
       "    6 │ ZNF589  MRPS18AP1  1.0          3.24613e-11           6         118\n",
       "    7 │ ZFP28   ZNF71      1.0          5.75271e-11           1           5\n",
       "    8 │ POU5F1  CCHCR1     1.0          9.77577e-11           2         119\n",
       "    9 │ ZNF71   ZNF470     1.0          1.47325e-10           5           4    ⋯\n",
       "   10 │ ZNF492  ZNF98      1.0          2.68696e-10           7         120\n",
       "   11 │ ZNF470  ZNF71      1.0          4.26356e-10           4           5\n",
       "  ⋮   │   ⋮         ⋮           ⋮            ⋮           ⋮           ⋮         ⋱\n",
       " 8464 │ SP2     EIF1       0.642786     0.199815             37        3913\n",
       " 8465 │ ZNF77   HCCS       0.642693     0.199834             38        5838    ⋯\n",
       " 8466 │ ZNF77   KAT14      0.64265      0.199852             38        5839\n",
       " 8467 │ ZNF480  PA2G4P5    0.642628     0.199871             59         994\n",
       " 8468 │ SP2     RNF139-DT  0.642603     0.19989              37        5840\n",
       " 8469 │ ZNF600  TRAPPC6A   0.642593     0.199908             40        5841    ⋯\n",
       " 8470 │ ZNF77   CARS2      0.642556     0.199927             38        5842\n",
       " 8471 │ DR1     NOL6       0.642515     0.199945             58         332\n",
       " 8472 │ ZNF600  HSPB1      0.642496     0.199964             40        5843\n",
       " 8473 │ ZNF600  HNRNPCP4   0.642327     0.199983             40        5844    ⋯\n",
       "\u001b[36m                                                  1 column and 8452 rows omitted\u001b[0m"
      ]
     },
     "execution_count": 25,
     "metadata": {},
     "output_type": "execute_result"
    }
   ],
   "source": [
    "dP"
   ]
  },
  {
   "cell_type": "markdown",
   "id": "2bbc7e16-f692-4e77-8b4d-634c374ccdf0",
   "metadata": {},
   "source": []
  }
 ],
 "metadata": {
  "kernelspec": {
   "display_name": "Julia 1.10.0",
   "language": "julia",
   "name": "julia-1.10"
  },
  "language_info": {
   "file_extension": ".jl",
   "mimetype": "application/julia",
   "name": "julia",
   "version": "1.10.0"
  }
 },
 "nbformat": 4,
 "nbformat_minor": 5
}
