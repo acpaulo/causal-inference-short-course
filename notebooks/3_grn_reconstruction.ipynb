{
 "cells": [
  {
   "cell_type": "markdown",
   "id": "d989c37b-f765-43af-bba1-586e4ff32f27",
   "metadata": {},
   "source": [
    "# Causal gene regulatory network reconstruction\n",
    "\n",
    "Cells continuously monitor their internal and external environment and calculate the amount at which each type of protein is needed. This information-processing function is carried out by [gene regulatory networks (GRNs)](https://en.wikipedia.org/wiki/Gene_regulatory_network), which control the rate of production of each protein. Two important classes of regulatory molecules in GRNs are [transcription factors](https://en.wikipedia.org/wiki/Transcription_factor) and [microRNAs](https://en.wikipedia.org/wiki/MicroRNA).\n",
    "\n",
    "In this tutorial we will use causal inference to reconstruct GRNs from [mRNA](https://en.wikipedia.org/wiki/Messenger_RNA) and [microRNA](https://en.wikipedia.org/wiki/MicroRNA) expression data from the [GEUVADIS study](https://www.nature.com/articles/nature12531). In particular, we will use genetic variants as causal instruments and the [BioFindr software](https://github.com/tmichoel/BioFindr.jl) for model selection, as introduced in the [blessing of dimensionality notebook](2_blessing_of_dimensionality.ipynb)."
   ]
  },
  {
   "cell_type": "markdown",
   "id": "14ac62d1-9825-48cb-8e4f-0ad6a00c80ba",
   "metadata": {},
   "source": [
    "## Setup the environment"
   ]
  },
  {
   "cell_type": "code",
   "execution_count": 1,
   "id": "2c828fed-93b1-4f88-97e8-f23d57c3cb7e",
   "metadata": {},
   "outputs": [],
   "source": [
    "using DrWatson\n",
    "quickactivate(@__DIR__)"
   ]
  },
  {
   "cell_type": "code",
   "execution_count": 23,
   "id": "8992b85a-5c09-46f1-b3a3-a2d73a5d09cc",
   "metadata": {},
   "outputs": [],
   "source": [
    "using DataFrames\n",
    "using Arrow\n",
    "using CSV\n",
    "using Gadfly\n",
    "using Compose\n",
    "using BioFindr\n",
    "using Printf\n",
    "using Graphs"
   ]
  },
  {
   "cell_type": "markdown",
   "id": "64ca7c67-add0-46f9-932c-8614bf8b2bf3",
   "metadata": {},
   "source": [
    "## Load data\n",
    "\n",
    "This tutorial uses [preprocessed data files](https://github.com/lingfeiwang/findr-data-geuvadis) from the [GEUVADIS study](https://doi.org/10.1038/nature12531). We have mRNA (`t` for transcripts) and microRNA (`m`) expression data:"
   ]
  },
  {
   "cell_type": "code",
   "execution_count": 3,
   "id": "a54deeda-29cd-4845-927b-067f256d61cc",
   "metadata": {},
   "outputs": [],
   "source": [
    "dt = DataFrame(Arrow.Table(datadir(\"processed\",\"findr-data-geuvadis\", \"dt.arrow\")));\n",
    "dm = DataFrame(Arrow.Table(datadir(\"processed\",\"findr-data-geuvadis\", \"dm.arrow\")));"
   ]
  },
  {
   "cell_type": "markdown",
   "id": "2d21718f-f80d-4595-8a38-f3312a1c9d6a",
   "metadata": {},
   "source": [
    "We also have genotype data for the strongest [eQTLs](https://en.wikipedia.org/wiki/Expression_quantitative_trait_loci) for a subset of mRNAs and microRNAs:"
   ]
  },
  {
   "cell_type": "code",
   "execution_count": 4,
   "id": "bbf5c98d-fdb9-4bb1-9654-aed0a1854dd9",
   "metadata": {},
   "outputs": [],
   "source": [
    "dgt = DataFrame(Arrow.Table(datadir(\"processed\",\"findr-data-geuvadis\", \"dgt.arrow\")));\n",
    "dgm = DataFrame(Arrow.Table(datadir(\"processed\",\"findr-data-geuvadis\", \"dgm.arrow\")));"
   ]
  },
  {
   "cell_type": "markdown",
   "id": "2fad9b7f-e806-4a79-a969-ab8355f13df4",
   "metadata": {},
   "source": [
    "To construct a GRN, we need a list of transcription factors. We will use a [list](https://humantfs.ccbr.utoronto.ca/allTFs.php) from the [Human Transcription Factors database](https://humantfs.ccbr.utoronto.ca/index.php):"
   ]
  },
  {
   "cell_type": "code",
   "execution_count": 5,
   "id": "67ebf48a-feff-4cb1-b2fe-f4c810d13d9e",
   "metadata": {},
   "outputs": [],
   "source": [
    "TFs = DataFrame(CSV.File(datadir(\"processed\",\"findr-data-geuvadis\", \"TF_names_v_1.01.txt\"), header=false))\n",
    "rename!(TFs, [:\"Column1\" => :GENE_ID]);"
   ]
  },
  {
   "cell_type": "markdown",
   "id": "9daf16a5-5447-4bcc-b502-0bb46ff0b2e6",
   "metadata": {},
   "source": [
    "The [preprocessed GEUVADIS data](https://github.com/lingfeiwang/findr-data-geuvadis) has been organized such that each column of the genotype data is the strongest eQTL for the corresponding column in the matching expression data. Usually however, eQTL mapping data will be available in the form of a table with variant IDs, gene IDs, and various eQTL associaion statistics (see the [original GEUVADIS file](https://www.ebi.ac.uk/biostudies/files/E-GEUV-1/E-GEUV-1/analysis_results/EUR373.gene.cis.FDR5.all.rs137.txt.gz) for an example). Let's artificially create such tables for our data (`p` for \"pairs\"):"
   ]
  },
  {
   "cell_type": "code",
   "execution_count": 6,
   "id": "cfbc8f77-c9e1-46b0-b3af-b7249706f1d5",
   "metadata": {},
   "outputs": [],
   "source": [
    "dpt = DataFrame(SNP_ID = names(dgt), GENE_ID=names(dt)[1:ncol(dgt)]);\n",
    "dpm = DataFrame(SNP_ID = names(dgm), GENE_ID=names(dm)[1:ncol(dgm)]);"
   ]
  },
  {
   "cell_type": "markdown",
   "id": "fa94b727-8afd-417a-9747-8929c8f7d70a",
   "metadata": {},
   "source": [
    "It is a common observation that TFs don't show strong variation at mRNA level, because their activity is mostly regulated at protein level. As a result, the fraction of TFs with an eQTL is only a bit more than 10%:"
   ]
  },
  {
   "cell_type": "code",
   "execution_count": 7,
   "id": "13f7aa7a-1308-4891-a378-033aafdc2ef6",
   "metadata": {},
   "outputs": [
    {
     "data": {
      "text/plain": [
       "1×2 Matrix{Int64}:\n",
       " 1639  179"
      ]
     },
     "execution_count": 7,
     "metadata": {},
     "output_type": "execute_result"
    }
   ],
   "source": [
    "[length(TFs.GENE_ID) length(intersect(TFs.GENE_ID, dpt.GENE_ID))]"
   ]
  },
  {
   "cell_type": "markdown",
   "id": "5408f0fb-93d3-4f3f-a755-335b4f3e0a1e",
   "metadata": {},
   "source": [
    "Because this tutorial is only for illustration purposes, we stick with these TFs as regulators in our network. A biological way to expand the list is to include upstream signalling molecules as \"proxies\" for TFs, as they often show more variation at mRNA level (see [this paper](https://www.nature.com/articles/ng1165#Sec7) for an example). Or one may simply accept that all networks inferred from omics data are \"functional networks\" where individual edges may correspond to indirect physical interactions, and use all genes with eQTLs as potential regulators."
   ]
  },
  {
   "cell_type": "markdown",
   "id": "1d109d99-349b-4ef8-9125-7eb9762abb8c",
   "metadata": {},
   "source": [
    "## GRN reconstruction with BioFindr\n",
    "\n",
    "We start by computing the probabilities of causal interactions from the selected TFs to all other genes using the methods explained in the [blessing of dimensionality notebook](2_blessing_of_dimensionality.ipynb). Naturally, we don't have to call the same low-level functions used there. Instead we can call a high-level `findr` function that does everything under the hood. You can read more about this function in the [BioFindr documentation](https://lab.michoel.info/BioFindr.jl/stable/testLLR/) or in the [BioFindr tutorials](https://lab.michoel.info/BioFindrTutorials/). The three first arguments in the call below point to the data and are mandatory (for causal inference). The other arguments are optional: `namesX` tells the function to only use a limited set of variables as candidate regulators (the function itself finds the intersection between `namesX` and the eQTL variables in `dpt`); `FDR` tells the function to determine a cutoff on the edge probabilities such that the overall [FDR](https://en.wikipedia.org/wiki/False_discovery_rate) is (in this case) 20%. Setting an FDR threshold does not reduce computation time, only the size of the ouptut. Hence it is recommended to set the value relatively high and, if necessary, filter for a more stringent threshold later (using the [`globalfdr!`](https://lab.michoel.info/BioFindr.jl/stable/utils/#BioFindr.globalfdr!) function)"
   ]
  },
  {
   "cell_type": "code",
   "execution_count": 32,
   "id": "4c19de24-69e4-4215-a355-c7e55d1bc717",
   "metadata": {},
   "outputs": [],
   "source": [
    "dP_TF_mRNA = findr(dt, dgt, dpt; namesX=TFs.GENE_ID, FDR=0.2);"
   ]
  },
  {
   "cell_type": "markdown",
   "id": "190bd6f6-f65f-4751-a3b5-1af08c19a3f5",
   "metadata": {},
   "source": [
    "We observe a total of more than 8,000 interactions at the FDR=20% threshold. To see how they are distributed over the individual TFs, we do a bit of [data wrangling](https://dataframes.juliadata.org/stable/). We see that three TFs are responsible for more than half of the interactions:"
   ]
  },
  {
   "cell_type": "code",
   "execution_count": 9,
   "id": "ebc26956-61c0-468a-a9bf-b0cfa118b148",
   "metadata": {},
   "outputs": [],
   "source": [
    "gdf = groupby(dP_TF_mRNA, :Source);"
   ]
  },
  {
   "cell_type": "code",
   "execution_count": 38,
   "id": "96828b9f-9025-4d7a-bd27-994a2295d447",
   "metadata": {},
   "outputs": [],
   "source": [
    "cdf = sort!(combine(gdf, nrow),:nrow, rev=true);"
   ]
  },
  {
   "cell_type": "markdown",
   "id": "edcfc932-5289-475f-9d8d-8197ef17225b",
   "metadata": {},
   "source": [
    "<div style=\"background-color:LightYellow; color:black\">\n",
    "<h3>Exercise</h3> \n",
    "     Replace the command below to identify causal microRNA -> microRNA interactions and repeat the steps above to find the number of interactions per microRNA.\n",
    "</div>"
   ]
  },
  {
   "cell_type": "code",
   "execution_count": 18,
   "id": "2b0b4984-69df-4289-bfd3-3d43dd6285d3",
   "metadata": {},
   "outputs": [],
   "source": [
    "dP_miRNA_miRNA = DataFrame(:Source => [], :Target => [], :Probability => [], :qvalue => []);"
   ]
  },
  {
   "cell_type": "markdown",
   "id": "7ac3b241-4cbf-4ab6-ae01-6f3ebbf66dee",
   "metadata": {},
   "source": [
    "So far we have reconstructed causal networks *within* a single dataset (mRNA or microRNA expression data) using eQTLs for a subset of variables as causal instruments. We can also reconstruct *bipartite* networks where the source nodes (regulators) come from one dataset and the target nodes from another dataset, as long as the variables in both dataset are measure in the same set of samples. For instance, to idenfity causal interactions *from* TFs *to* microRNAs, we run:"
   ]
  },
  {
   "cell_type": "code",
   "execution_count": 13,
   "id": "3e05e6ec-238e-4a1e-834a-519bf449b3fb",
   "metadata": {},
   "outputs": [],
   "source": [
    "dP_TF_miRNA = findr(dm, dt, dgt, dpt; namesX=TFs.GENE_ID, FDR=0.2);"
   ]
  },
  {
   "cell_type": "markdown",
   "id": "0a2b457f-e6df-458e-aab0-018a851c3a91",
   "metadata": {},
   "source": [
    "<div style=\"background-color:LightYellow; color:black\">\n",
    "<h3>Exercise</h3> \n",
    "     Repeat the steps above to find the number of interactions per TF. \n",
    "</div>"
   ]
  },
  {
   "cell_type": "markdown",
   "id": "c6205ea9-0f43-48c9-a189-4ae2c67dcfec",
   "metadata": {},
   "source": [
    "<div style=\"background-color:LightYellow; color:black\">\n",
    "<h3>Exercise</h3> \n",
    "     Replace the command below to identify causal microRNA -> mRNA interactions and repeat the steps above to find the number of interactions per microRNA.\n",
    "</div>"
   ]
  },
  {
   "cell_type": "markdown",
   "id": "ee4b37c0-623a-4111-839c-841d02d82206",
   "metadata": {},
   "source": [
    "dP_miRNA_mRNA = DataFrame(:Source => [], :Target => [], :Probability => [], :qvalue => []);"
   ]
  },
  {
   "cell_type": "markdown",
   "id": "9159a185-31fe-4ca9-a40c-d71a6ea96e99",
   "metadata": {},
   "source": [
    "We can now collect all results in a final dataframe containing our predicted GRN interactions at FDR=20%, sorted by descending probability:"
   ]
  },
  {
   "cell_type": "code",
   "execution_count": 21,
   "id": "3fbf4864-1b52-4bab-955b-6fe28c90b507",
   "metadata": {},
   "outputs": [],
   "source": [
    "dP = sort!(vcat(dP_TF_mRNA, dP_miRNA_miRNA, dP_TF_miRNA, dP_miRNA_mRNA), :Probability, rev=true);"
   ]
  },
  {
   "cell_type": "markdown",
   "id": "056ff6fb-3e2b-43e9-bb6d-a54ed41cebf8",
   "metadata": {},
   "source": [
    "## Directed acyclic graph reconstruction\n",
    "\n",
    "In some applications we need graphs that don't contain cycles, so-called [directed acyclic graphs (DAGs)](https://en.wikipedia.org/wiki/Directed_acyclic_graph). For instance, if we want to use the predicted GRN as a structure prior for a [Bayesian network](https://en.wikipedia.org/wiki/Bayesian_network), as done in [this paper](https://doi.org/10.3389/fgene.2019.01196), or if we are looking for a [hierarchical GRN representation](https://doi.org/10.1038/nrg2499). [BioFindr](https://github.com/tmichoel/BioFindr.jl) implements a greedy heuristic to create a DAG from a dataframe of edges, which inserts edges one-by-one into the DAG by descending probability, skipping edges that would introduce a cycle (see the [documentation](https://lab.michoel.info/BioFindr.jl/dev/bayesiannets/#BioFindr.dagfindr!) for more info). We can create a DAG for the complete list of edges:"
   ]
  },
  {
   "cell_type": "code",
   "execution_count": 24,
   "id": "6829b28c-44a4-47e3-b4e6-db810e2e413d",
   "metadata": {},
   "outputs": [],
   "source": [
    "G_all = dagfindr!(dP);"
   ]
  },
  {
   "cell_type": "markdown",
   "id": "11bfcf3c-9ec8-4184-8882-46e88f5dd88c",
   "metadata": {},
   "source": [
    "The DAG information has been added to `dP` in the form of a boolean column indicating whether an edge is included in the DAG or not. Two additional columns, `Source_idx` and `Target_idx` give a mapping from node names (Gene IDs) to numerical IDs; these IDs are used to identify nodes in `G_all`, a [directed graph object](https://juliagraphs.org/Graphs.jl/dev/core_functions/simplegraphs/#Graphs.SimpleGraphs.SimpleDiGraph)  from the [Graphs package](https://juliagraphs.org/Graphs.jl/dev/):"
   ]
  },
  {
   "cell_type": "code",
   "execution_count": 34,
   "id": "4a20caf4-00c9-428c-8411-5ac313270cef",
   "metadata": {},
   "outputs": [],
   "source": [
    "dP;"
   ]
  },
  {
   "cell_type": "markdown",
   "id": "08c1c545-23b3-47ad-97ff-ea4ac9790f61",
   "metadata": {},
   "source": [
    "<div style=\"background-color:LightYellow; color:black\">\n",
    "<h3>Exercise</h3> \n",
    "     Create a [view](https://dataframes.juliadata.org/stable/man/working_with_dataframes/#Taking-a-Subset) of dP showing only the interactions *not* included in the DAG. Do you observe a pattern?\n",
    "</div>"
   ]
  },
  {
   "cell_type": "markdown",
   "id": "2bbc7e16-f692-4e77-8b4d-634c374ccdf0",
   "metadata": {},
   "source": [
    "The regulators (`Source` variables) in our GRN are only a subset of the total set of variables (mRNAs and microRNAs). Since cycles can only occur when the `Target` variable of an edge is also a regulator, it makes more sense to reconstruct DAGs from regulator -> regulator interactions alone. Let's create a new dataframe of these edges:"
   ]
  },
  {
   "cell_type": "code",
   "execution_count": 35,
   "id": "8eb68814-8255-49f8-aca9-51775d147eee",
   "metadata": {},
   "outputs": [],
   "source": [
    "regulators = unique(dP.Source)\n",
    "dP_reg = filter(row -> row.Target in regulators, dP[:,1:4]);"
   ]
  },
  {
   "cell_type": "markdown",
   "id": "29805afa-79d1-4b3e-96c7-0a0014efe655",
   "metadata": {},
   "source": [
    "and now call `dagfindr!` again:"
   ]
  },
  {
   "cell_type": "code",
   "execution_count": 36,
   "id": "c0b24ea8-cc62-48e1-8be2-36d981df5393",
   "metadata": {},
   "outputs": [],
   "source": [
    "G_reg = dagfindr!(dP_reg);\n",
    "dP_reg;"
   ]
  },
  {
   "cell_type": "markdown",
   "id": "cdc51755-1584-4858-86fa-e6c6617752bc",
   "metadata": {},
   "source": [
    "Let's keep only the DAG edges in `dP_reg` and write both `dP` and `dP_reg` to a file for downstream analyses. **Note:** first create the `data/results/findr-data-geuvadis` directory if it does not exist yet!"
   ]
  },
  {
   "cell_type": "code",
   "execution_count": 31,
   "id": "91d41af2-efbb-49d6-9481-bca747fde7c5",
   "metadata": {},
   "outputs": [
    {
     "data": {
      "text/plain": [
       "\"C:\\\\Users\\\\tmich\\\\Teaching\\\\causal-inference-short-course\\\\data\\\\results\\\\findr-data-geuvadis\\\\dP.csv\""
      ]
     },
     "execution_count": 31,
     "metadata": {},
     "output_type": "execute_result"
    }
   ],
   "source": [
    "filter!(row -> row.inDAG_greedy_edges==true, dP_reg);\n",
    "CSV.write(datadir(\"results\",\"findr-data-geuvadis\", \"dP_reg.csv\"), dP_reg);\n",
    "CSV.write(datadir(\"results\",\"findr-data-geuvadis\", \"dP.csv\"), dP);"
   ]
  }
 ],
 "metadata": {
  "kernelspec": {
   "display_name": "Julia 1.10.0",
   "language": "julia",
   "name": "julia-1.10"
  },
  "language_info": {
   "file_extension": ".jl",
   "mimetype": "application/julia",
   "name": "julia",
   "version": "1.10.0"
  }
 },
 "nbformat": 4,
 "nbformat_minor": 5
}
