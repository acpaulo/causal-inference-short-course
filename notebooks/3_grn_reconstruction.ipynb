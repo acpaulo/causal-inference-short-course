{
 "cells": [
  {
   "cell_type": "markdown",
   "id": "d989c37b-f765-43af-bba1-586e4ff32f27",
   "metadata": {},
   "source": [
    "# Causal gene regulatory network reconstruction\n",
    "\n",
    "Cells continuously monitor their internal and external environment and calculate the amount at which each type of protein is needed. This information-processing function is carried out by [gene regulatory networks (GRNs)](https://en.wikipedia.org/wiki/Gene_regulatory_network), which control the rate of production of each protein. Two important classes of regulatory molecules in GRNs are [transcription factors](https://en.wikipedia.org/wiki/Transcription_factor) and [microRNAs](https://en.wikipedia.org/wiki/MicroRNA).\n",
    "\n",
    "In this tutorial we will use causal inference to reconstruct GRNs from [mRNA](https://en.wikipedia.org/wiki/Messenger_RNA) and [microRNA](https://en.wikipedia.org/wiki/MicroRNA) expression data from the [GEUVADIS study](https://www.nature.com/articles/nature12531). In particular, we will use genetic variants as causal instruments and the [BioFindr software](https://github.com/tmichoel/BioFindr.jl) for model selection, as introduced in the [blessing of dimensionality notebook](2_blessing_of_dimensionality.ipynb)."
   ]
  },
  {
   "cell_type": "markdown",
   "id": "14ac62d1-9825-48cb-8e4f-0ad6a00c80ba",
   "metadata": {},
   "source": [
    "## Setup the environment"
   ]
  },
  {
   "cell_type": "code",
   "execution_count": 1,
   "id": "2c828fed-93b1-4f88-97e8-f23d57c3cb7e",
   "metadata": {},
   "outputs": [],
   "source": [
    "using DrWatson\n",
    "quickactivate(@__DIR__)"
   ]
  },
  {
   "cell_type": "code",
   "execution_count": 15,
   "id": "8992b85a-5c09-46f1-b3a3-a2d73a5d09cc",
   "metadata": {},
   "outputs": [],
   "source": [
    "using DataFrames\n",
    "using Arrow\n",
    "using CSV\n",
    "using Gadfly\n",
    "using Compose\n",
    "using BioFindr"
   ]
  },
  {
   "cell_type": "markdown",
   "id": "64ca7c67-add0-46f9-932c-8614bf8b2bf3",
   "metadata": {},
   "source": [
    "## Load data\n",
    "\n",
    "This tutorial uses [preprocessed data files](https://github.com/lingfeiwang/findr-data-geuvadis) from the [GEUVADIS study](https://doi.org/10.1038/nature12531). We have mRNA (`t` for transcripts) and microRNA (`m`) expression data:"
   ]
  },
  {
   "cell_type": "code",
   "execution_count": 11,
   "id": "a54deeda-29cd-4845-927b-067f256d61cc",
   "metadata": {},
   "outputs": [],
   "source": [
    "dt = DataFrame(Arrow.Table(datadir(\"processed\",\"findr-data-geuvadis\", \"dt.arrow\")));\n",
    "dm = DataFrame(Arrow.Table(datadir(\"processed\",\"findr-data-geuvadis\", \"dm.arrow\")));"
   ]
  },
  {
   "cell_type": "markdown",
   "id": "2d21718f-f80d-4595-8a38-f3312a1c9d6a",
   "metadata": {},
   "source": [
    "We also have genotype data for the strongest [eQTLs](https://en.wikipedia.org/wiki/Expression_quantitative_trait_loci) for a subset of mRNAs and microRNAs:"
   ]
  },
  {
   "cell_type": "code",
   "execution_count": 5,
   "id": "bbf5c98d-fdb9-4bb1-9654-aed0a1854dd9",
   "metadata": {},
   "outputs": [],
   "source": [
    "dgt = DataFrame(Arrow.Table(datadir(\"processed\",\"findr-data-geuvadis\", \"dgt.arrow\")));\n",
    "dgm = DataFrame(Arrow.Table(datadir(\"processed\",\"findr-data-geuvadis\", \"dgm.arrow\")));"
   ]
  },
  {
   "cell_type": "markdown",
   "id": "2fad9b7f-e806-4a79-a969-ab8355f13df4",
   "metadata": {},
   "source": [
    "As regulators in our GRN, we will use TFs and microRNAs for which validation data is available:"
   ]
  },
  {
   "cell_type": "code",
   "execution_count": 24,
   "id": "67ebf48a-feff-4cb1-b2fe-f4c810d13d9e",
   "metadata": {},
   "outputs": [],
   "source": [
    "TFs = DataFrame(CSV.File(datadir(\"processed\",\"findr-data-geuvadis\", \"TFs.csv\")));\n",
    "microRNAs = DataFrame(CSV.File(datadir(\"processed\",\"findr-data-geuvadis\", \"miRNAs.csv\")));"
   ]
  },
  {
   "cell_type": "markdown",
   "id": "9daf16a5-5447-4bcc-b502-0bb46ff0b2e6",
   "metadata": {},
   "source": [
    "The [preprocessed GEUVADIS data](https://github.com/lingfeiwang/findr-data-geuvadis) has been organized such that each column of the genotype data is the strongest eQTLs for the corresponding column in the matching expression data. Usually however, eQTL mapping data will be available in the form of a table with variant IDs, gene IDs, and various eQTL associaion statistics (see the [original GEUVADIS file](https://www.ebi.ac.uk/biostudies/files/E-GEUV-1/E-GEUV-1/analysis_results/EUR373.gene.cis.FDR5.all.rs137.txt.gz) for an example). Let's artificially create such tables for our data, keeping only eQTL genes/microRNAs that are also in our lists of regulators (`p` for \"pairs\"):"
   ]
  },
  {
   "cell_type": "code",
   "execution_count": 37,
   "id": "cfbc8f77-c9e1-46b0-b3af-b7249706f1d5",
   "metadata": {},
   "outputs": [],
   "source": [
    "eQTL_TF = map(x -> ∈(x,TFs.TF), names(dt)[1:ncol(dgt)]);\n",
    "dpt = DataFrame(SNP_ID = names(dgt)[eQTL_TF], GENE_ID=names(dt)[1:ncol(dgt)][eQTL_TF]);"
   ]
  },
  {
   "cell_type": "code",
   "execution_count": 40,
   "id": "0ed26892-bfa7-4e8a-a424-7458e66f1c7f",
   "metadata": {},
   "outputs": [],
   "source": [
    "eQTL_mir = map(x -> ∈(x,microRNAs.miRNA), names(dm)[1:ncol(dgm)]);\n",
    "dpm = DataFrame(SNP_ID = names(dgm)[eQTL_mir], GENE_ID=names(dm)[1:ncol(dgm)][eQTL_mir]);"
   ]
  },
  {
   "cell_type": "markdown",
   "id": "1b3af907-a8dd-4072-8c76-28ac5f235275",
   "metadata": {},
   "source": [
    "Note that we are now using only a very small number of TFs and microRNAs. This will be sufficient to illustrate the use of the software, but in real applications one would consider many more genes as potential regulators (in principle all genes with a valid eQTL instrument)."
   ]
  },
  {
   "cell_type": "markdown",
   "id": "4200ffdd-f9ff-492b-8870-9f707063633a",
   "metadata": {},
   "source": [
    "## GRN reconstruction with BioFindr\n",
    "\n",
    "### TF-target prediction\n",
    "\n",
    "We start by computing the probabilities of causal interactions from the selected TFs to all other genes using the methods explained in the [blessing of dimensionality notebook](2_blessing_of_dimensionality.ipynb). Naturally, we don't have to call the same low-level functions used there. Instead we can call a high-level `findr` function that does everything under the hood. You can read more about this function in the [BioFindr documentation](https://lab.michoel.info/BioFindr.jl/stable/testLLR/) or in the [BioFindr tutorials](https://lab.michoel.info/BioFindrTutorials/)"
   ]
  },
  {
   "cell_type": "code",
   "execution_count": null,
   "id": "4c19de24-69e4-4215-a355-c7e55d1bc717",
   "metadata": {},
   "outputs": [],
   "source": []
  }
 ],
 "metadata": {
  "kernelspec": {
   "display_name": "Julia 1.10.0",
   "language": "julia",
   "name": "julia-1.10"
  },
  "language_info": {
   "file_extension": ".jl",
   "mimetype": "application/julia",
   "name": "julia",
   "version": "1.10.0"
  }
 },
 "nbformat": 4,
 "nbformat_minor": 5
}
