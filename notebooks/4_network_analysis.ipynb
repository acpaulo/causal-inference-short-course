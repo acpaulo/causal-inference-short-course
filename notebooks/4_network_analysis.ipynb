{
 "cells": [
  {
   "cell_type": "markdown",
   "id": "4649cc7a-cf3d-4431-b62f-5eb9a736c665",
   "metadata": {},
   "source": [
    "# Network analysis"
   ]
  },
  {
   "cell_type": "markdown",
   "id": "0df4639f-3866-4a72-a603-8a9fb7a67db1",
   "metadata": {},
   "source": [
    "## Network visualization in Cytoscape\n",
    "\n",
    "[Cytoscape](https://cytoscape.org/) is probably the best software for network visualization."
   ]
  },
  {
   "cell_type": "markdown",
   "id": "4e014c56-fe0d-45c2-b408-80e6e24a4203",
   "metadata": {},
   "source": [
    "<div style=\"background-color:LightYellow; color:black\">\n",
    "<h3>Exercise</h3> \n",
    "     Install Cytoscape. Import the directed, acyclic regulator -> regulator graph you saved in the [GRN reconstruction notebook](3_grn_reconstruction.ipynb), and visualize it using a hierarchical layout (<a href=\"https://apps.cytoscape.org/apps/yfileslayoutalgorithms\">yFiles layout</a> is recommended). In the [GRN reconstruction notebook](3_grn_reconstruction.ipynb), we saw that <a href=\"https://en.wikipedia.org/wiki/Sp2_transcription_factor\">SP2</a> was the TF with the highest number of targets. Where does SP2 lie in our reconstructed hierarchy? \n",
    "</div>"
   ]
  },
  {
   "cell_type": "markdown",
   "id": "dce1ae38-195f-4f42-a34b-19b78d71978f",
   "metadata": {},
   "source": [
    "## Network validation\n",
    "\n",
    "After reconstructing a GRN, we want to evaluate if the predicted targets of a TF overlap with its known targets. The most common validation data are TF binding locations from [ChIP sequencing](https://en.wikipedia.org/wiki/ChIP_sequencing) or differential expression following [gene silencing](https://en.wikipedia.org/wiki/Gene_silencing) or [gene knockout](https://en.wikipedia.org/wiki/Gene_knockout) experiments.\n",
    "\n",
    "In a study by [Cusanovich et al.](https://journals.plos.org/plosgenetics/article?id=10.1371/journal.pgen.1004226#s2) such binding and silencing data were generated for a lymphoblastoid cell line, the same cell type used in the [GEUVADIS study](https://doi.org/10.1038/nature12531). The difficulty of validating GRNs is well illustrated by the fact that the main finding of this study was the limited overlap between these two experimental validation methods!"
   ]
  },
  {
   "cell_type": "markdown",
   "id": "ceacd2af-31f3-4338-b54b-de407682731f",
   "metadata": {},
   "source": [
    "<div style=\"background-color:LightYellow; color:black\">\n",
    "<h3>Exercise</h3> \n",
    "     Download Supplementary Table S3 from the Cusanovich et al study, find validation data for TFs in our predicted GRN and compute the overlap between predicted and validated targets. Use the <a href=\"https://en.wikipedia.org/wiki/Hypergeometric_distribution#Hypergeometric_test\">hypergeometric test</a> to test if the overlap is significant.\n",
    "</div>"
   ]
  },
  {
   "cell_type": "markdown",
   "id": "64a9a1c7-9e77-4647-bb7b-a4fa33cc8deb",
   "metadata": {},
   "source": [
    "## Subnetwork eigengene correlations with phenotypes\n",
    "\n",
    "In a disease-related study where we have eQTL and gene expression data to reconstruct causal GRNs, we usually also have clinical characteristics or other phenotypes available for the same individuals. A key question then is whether sub-networks of the inferred GRN are involved in the regulation of certain disease phenotypes. A commonly used method to answer this question is to summarize the expression of a subnetwork of genes as an [*eigengene*](https://bmcsystbiol.biomedcentral.com/articles/10.1186/1752-0509-1-54), defined as the first principal component of the expression data for the genes in the subnetwork. Then associations are tested between the eigengenes and the available phenotypes using correlation (for continuous phenotypes) or differential expression (for discrete phenotypes).\n",
    "\n",
    "In the [GEUVADIS study](https://doi.org/10.1038/nature12531), no real phenotypes are available. To nevertheless illustrate this approach fake phenotypes have been created using the principal components of the expression data (saved to a file `PC_phenotypes.csv`)."
   ]
  },
  {
   "cell_type": "markdown",
   "id": "d86e6e7d-eb98-4fbf-89bf-2cd5223d5007",
   "metadata": {},
   "source": [
    "<div style=\"background-color:LightYellow; color:black\">\n",
    "<h3>Exercise</h3> \n",
    "     For each regulator in the predicted GRN, define a subnetwork consisting of the regulator and its predicted targets. Use the <a href=\"https://lab.michoel.info/BioFindr.jl/dev/inference/#BioFindr.supernormalize\">supernormalized data</a> to compute each subnetwork's eigengene. Check how much variance of the subnetwork's genes is explained by the eigengene. Find the subnetworks most strongly associated with each of the three phenotypes.\n",
    "</div>"
   ]
  },
  {
   "cell_type": "markdown",
   "id": "cf746a51-858f-4442-a763-49784eb00b52",
   "metadata": {},
   "source": [
    "## Functional enrichment and drug repurposing\n",
    "\n",
    "When we have found subnetworks that are correlated with disease phenotypes, we want to better understand the functional meaning of these networks, if they contain druggable genes, and if they can be targeted by already known drugs or compounds. For instance, if we find a subnetwork whose genes are positively correlated with more severy disease phenotypes, we would like to identify compounds that reduce the expression of these genes.\n",
    "\n",
    "### Functional enrichment\n",
    "\n",
    "Functional enrichment tests if the genes in a subnetwork are known to operate in the same biological processes. Many tools exist to analyze functional enrichment. A popular one is:\n",
    "\n",
    "- [Enrichr](https://maayanlab.cloud/Enrichr/)\n",
    "\n",
    "### Druggability\n",
    "\n",
    "Finding druggable genes in a subnetwork includes checking if genes coding for known drug targets or belonging to general druggable classes of proteins are present in the network. Available resources include:\n",
    "\n",
    "- List of [protein kinases coding genes](https://ftp.uniprot.org/pub/databases/uniprot/knowledgebase/complete/docs/pkinfam.txt)\n",
    "- List of [G-protein-coupled receptors (GPCRs)](https://www.guidetopharmacology.org/GRAC/GPCRListForward?class=A)\n",
    "- Drug-gene interactions from [DGIdb](https://www.dgidb.org/) or [Guide to pharmacology](https://www.guidetopharmacology.org/)\n",
    "- Protein-protein interactions from [ConsensusPathDB](http://cpdb.molgen.mpg.de/) or other similar databases\n",
    "\n",
    "### Drug repurposing\n",
    "\n",
    "Drug repurposing is based on matching gene sets (e.g. from a subnetwork of interest) against gene signatures of differential expression following treatment with drugs or other chemical compounds and gene silencing or overexpression experiments. Thousands of such signatures have been determined experimentally in cancer cell lines:\n",
    "\n",
    "- [Connectivity map](https://clue.io/)\n",
    "- [SigCOM LINCS](https://maayanlab.cloud/sigcom-lincs)"
   ]
  },
  {
   "cell_type": "markdown",
   "id": "53459287-8cd1-48c1-85a3-b4ef2bf1c4d5",
   "metadata": {},
   "source": [
    "<div style=\"background-color:LightYellow; color:black\">\n",
    "<h3>Exercise</h3> \n",
    "     For each regulator in the predicted GRN, define a subnetwork consisting of the regulator and its predicted targets. Define up- and down-regulated gene sets as the targets that are positively, resp. negatively correlated with the regulator. Upload gene sets to the Connectivity Map. Do you find any compounds whose signature overlaps significantly with your subnetwork?\n",
    "</div>"
   ]
  }
 ],
 "metadata": {
  "kernelspec": {
   "display_name": "Julia 1.10.0",
   "language": "julia",
   "name": "julia-1.10"
  },
  "language_info": {
   "file_extension": ".jl",
   "mimetype": "application/julia",
   "name": "julia",
   "version": "1.10.0"
  }
 },
 "nbformat": 4,
 "nbformat_minor": 5
}
